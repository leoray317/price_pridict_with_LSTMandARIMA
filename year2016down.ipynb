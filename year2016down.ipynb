{
 "cells": [
  {
   "cell_type": "code",
   "execution_count": 5,
   "metadata": {},
   "outputs": [],
   "source": [
    "import pandas as pd\n",
    "df = pd.read_csv('month_data.csv')"
   ]
  },
  {
   "cell_type": "code",
   "execution_count": 6,
   "metadata": {},
   "outputs": [
    {
     "data": {
      "text/plain": [
       "['date', 'year', 'month', 'price', 'volumn']"
      ]
     },
     "execution_count": 6,
     "metadata": {},
     "output_type": "execute_result"
    }
   ],
   "source": [
    "column=[]\n",
    "for i in df.columns[1:]:\n",
    "    column.append(i)\n",
    "column.append('train')\n",
    "column"
   ]
  },
  {
   "cell_type": "code",
   "execution_count": 18,
   "metadata": {},
   "outputs": [],
   "source": [
    "new_df = []\n",
    "for i in df.values:\n",
    "    new_i=[]\n",
    "    if i[2] <= 2016:\n",
    "        for val in i[1:]:\n",
    "            new_i.append(val)\n",
    "        new_i.append('0')\n",
    "    else:\n",
    "        for val in i[1:]:\n",
    "            new_i.append(val)\n",
    "        new_i.append('1')\n",
    "    new_df.append(new_i)"
   ]
  },
  {
   "cell_type": "code",
   "execution_count": 19,
   "metadata": {},
   "outputs": [
    {
     "data": {
      "text/html": [
       "<div>\n",
       "<style scoped>\n",
       "    .dataframe tbody tr th:only-of-type {\n",
       "        vertical-align: middle;\n",
       "    }\n",
       "\n",
       "    .dataframe tbody tr th {\n",
       "        vertical-align: top;\n",
       "    }\n",
       "\n",
       "    .dataframe thead th {\n",
       "        text-align: right;\n",
       "    }\n",
       "</style>\n",
       "<table border=\"1\" class=\"dataframe\">\n",
       "  <thead>\n",
       "    <tr style=\"text-align: right;\">\n",
       "      <th></th>\n",
       "      <th>date</th>\n",
       "      <th>year</th>\n",
       "      <th>month</th>\n",
       "      <th>price</th>\n",
       "      <th>volumn</th>\n",
       "    </tr>\n",
       "  </thead>\n",
       "  <tbody>\n",
       "    <tr>\n",
       "      <th>0</th>\n",
       "      <td>1999-01</td>\n",
       "      <td>1999.0</td>\n",
       "      <td>1.0</td>\n",
       "      <td>20.3</td>\n",
       "      <td>230.3</td>\n",
       "    </tr>\n",
       "    <tr>\n",
       "      <th>1</th>\n",
       "      <td>1999-02</td>\n",
       "      <td>1999.0</td>\n",
       "      <td>2.0</td>\n",
       "      <td>27.7</td>\n",
       "      <td>2248.7</td>\n",
       "    </tr>\n",
       "    <tr>\n",
       "      <th>2</th>\n",
       "      <td>1999-03</td>\n",
       "      <td>1999.0</td>\n",
       "      <td>3.0</td>\n",
       "      <td>15.8</td>\n",
       "      <td>18235.1</td>\n",
       "    </tr>\n",
       "    <tr>\n",
       "      <th>3</th>\n",
       "      <td>1999-04</td>\n",
       "      <td>1999.0</td>\n",
       "      <td>4.0</td>\n",
       "      <td>11.2</td>\n",
       "      <td>26201.8</td>\n",
       "    </tr>\n",
       "    <tr>\n",
       "      <th>4</th>\n",
       "      <td>1999-05</td>\n",
       "      <td>1999.0</td>\n",
       "      <td>5.0</td>\n",
       "      <td>8.6</td>\n",
       "      <td>27782.8</td>\n",
       "    </tr>\n",
       "    <tr>\n",
       "      <th>...</th>\n",
       "      <td>...</td>\n",
       "      <td>...</td>\n",
       "      <td>...</td>\n",
       "      <td>...</td>\n",
       "      <td>...</td>\n",
       "    </tr>\n",
       "    <tr>\n",
       "      <th>211</th>\n",
       "      <td>2016-08</td>\n",
       "      <td>2016.0</td>\n",
       "      <td>8.0</td>\n",
       "      <td>22.8</td>\n",
       "      <td>24319.6</td>\n",
       "    </tr>\n",
       "    <tr>\n",
       "      <th>212</th>\n",
       "      <td>2016-09</td>\n",
       "      <td>2016.0</td>\n",
       "      <td>9.0</td>\n",
       "      <td>13.9</td>\n",
       "      <td>13089.0</td>\n",
       "    </tr>\n",
       "    <tr>\n",
       "      <th>213</th>\n",
       "      <td>2016-10</td>\n",
       "      <td>2016.0</td>\n",
       "      <td>10.0</td>\n",
       "      <td>15.6</td>\n",
       "      <td>1695.3</td>\n",
       "    </tr>\n",
       "    <tr>\n",
       "      <th>214</th>\n",
       "      <td>2016-11</td>\n",
       "      <td>2016.0</td>\n",
       "      <td>11.0</td>\n",
       "      <td>25.2</td>\n",
       "      <td>512.7</td>\n",
       "    </tr>\n",
       "    <tr>\n",
       "      <th>215</th>\n",
       "      <td>2016-12</td>\n",
       "      <td>2016.0</td>\n",
       "      <td>12.0</td>\n",
       "      <td>18.3</td>\n",
       "      <td>1546.2</td>\n",
       "    </tr>\n",
       "  </tbody>\n",
       "</table>\n",
       "<p>216 rows × 5 columns</p>\n",
       "</div>"
      ],
      "text/plain": [
       "        date    year  month  price   volumn\n",
       "0    1999-01  1999.0    1.0   20.3    230.3\n",
       "1    1999-02  1999.0    2.0   27.7   2248.7\n",
       "2    1999-03  1999.0    3.0   15.8  18235.1\n",
       "3    1999-04  1999.0    4.0   11.2  26201.8\n",
       "4    1999-05  1999.0    5.0    8.6  27782.8\n",
       "..       ...     ...    ...    ...      ...\n",
       "211  2016-08  2016.0    8.0   22.8  24319.6\n",
       "212  2016-09  2016.0    9.0   13.9  13089.0\n",
       "213  2016-10  2016.0   10.0   15.6   1695.3\n",
       "214  2016-11  2016.0   11.0   25.2    512.7\n",
       "215  2016-12  2016.0   12.0   18.3   1546.2\n",
       "\n",
       "[216 rows x 5 columns]"
      ]
     },
     "execution_count": 19,
     "metadata": {},
     "output_type": "execute_result"
    }
   ],
   "source": [
    "new_df  = pd.DataFrame(new_df,columns=column)\n",
    "new_df = new_df.dropna()\n",
    "new_df"
   ]
  },
  {
   "cell_type": "code",
   "execution_count": 20,
   "metadata": {},
   "outputs": [],
   "source": [
    "new_df.to_csv('month_data_org.csv',encoding='utf-8-sig',index=False)"
   ]
  },
  {
   "cell_type": "code",
   "execution_count": null,
   "metadata": {},
   "outputs": [],
   "source": []
  }
 ],
 "metadata": {
  "kernelspec": {
   "display_name": "Python 3",
   "language": "python",
   "name": "python3"
  },
  "language_info": {
   "codemirror_mode": {
    "name": "ipython",
    "version": 3
   },
   "file_extension": ".py",
   "mimetype": "text/x-python",
   "name": "python",
   "nbconvert_exporter": "python",
   "pygments_lexer": "ipython3",
   "version": "3.7.5"
  }
 },
 "nbformat": 4,
 "nbformat_minor": 4
}
